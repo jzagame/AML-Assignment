{
  "cells": [
    {
      "cell_type": "markdown",
      "metadata": {
        "id": "9JAQUbtP2eAY"
      },
      "source": [
        "### 1. Preparing the data\n",
        "\n",
        "Import the used library for training dataset and connect to Google Drive\n"
      ]
    },
    {
      "cell_type": "code",
      "execution_count": 1,
      "metadata": {
        "colab": {
          "base_uri": "https://localhost:8080/"
        },
        "id": "bVvuv_qkgTZu",
        "outputId": "531fe772-10e1-40af-adf3-7cd19ba3e803"
      },
      "outputs": [
        {
          "output_type": "stream",
          "name": "stdout",
          "text": [
            "Mounted at Mydrive\n"
          ]
        }
      ],
      "source": [
        "from google.colab import drive\n",
        "drive.mount('Mydrive')"
      ]
    },
    {
      "cell_type": "code",
      "execution_count": 2,
      "metadata": {
        "id": "i7Q-sAhxHkdx",
        "colab": {
          "base_uri": "https://localhost:8080/"
        },
        "outputId": "bfbb477a-33b1-47dc-8ed9-5e63865d1e16"
      },
      "outputs": [
        {
          "output_type": "stream",
          "name": "stdout",
          "text": [
            "Looking in indexes: https://pypi.org/simple, https://us-python.pkg.dev/colab-wheels/public/simple/\n",
            "Collecting tensorflow-addons==0.16.1\n",
            "  Downloading tensorflow_addons-0.16.1-cp38-cp38-manylinux_2_12_x86_64.manylinux2010_x86_64.whl (1.1 MB)\n",
            "\u001b[K     |████████████████████████████████| 1.1 MB 7.0 MB/s \n",
            "\u001b[?25hRequirement already satisfied: typeguard>=2.7 in /usr/local/lib/python3.8/dist-packages (from tensorflow-addons==0.16.1) (2.7.1)\n",
            "Installing collected packages: tensorflow-addons\n",
            "Successfully installed tensorflow-addons-0.16.1\n"
          ]
        },
        {
          "output_type": "stream",
          "name": "stderr",
          "text": [
            "/usr/local/lib/python3.8/dist-packages/tensorflow_addons/utils/ensure_tf_install.py:53: UserWarning: Tensorflow Addons supports using Python ops for all Tensorflow versions above or equal to 2.6.0 and strictly below 2.9.0 (nightly versions are not supported). \n",
            " The versions of TensorFlow you are currently using is 2.9.2 and is not supported. \n",
            "Some things might work, some things might not.\n",
            "If you were to encounter a bug, do not file an issue.\n",
            "If you want to make sure you're using a tested and supported configuration, either change the TensorFlow version or the TensorFlow Addons's version. \n",
            "You can find the compatibility matrix in TensorFlow Addon's readme:\n",
            "https://github.com/tensorflow/addons\n",
            "  warnings.warn(\n"
          ]
        }
      ],
      "source": [
        "import os\n",
        "import zipfile\n",
        "from os import listdir\n",
        "from matplotlib import image\n",
        "import tensorflow as tf\n",
        "import numpy as np\n",
        "import random\n",
        "import matplotlib.pyplot as plt\n",
        "!pip install tensorflow-addons==0.16.1\n",
        "import tensorflow_addons as tfa\n",
        "\n",
        "from tensorflow.keras.models import Sequential\n",
        "from tensorflow.keras.layers import Conv2D, MaxPooling2D, Dense, Flatten, Dropout, BatchNormalization\n",
        "from tensorflow.keras.constraints import unit_norm\n",
        "from tensorflow.keras import regularizers\n",
        "from tensorflow.keras.metrics import top_k_categorical_accuracy\n",
        "\n",
        "from keras.models import load_model\n",
        "\n",
        "from PIL import Image\n",
        "import base64\n",
        "import io"
      ]
    },
    {
      "cell_type": "markdown",
      "metadata": {
        "id": "uXMvYL367ZdG"
      },
      "source": [
        "#### **Unzip the dataset and define few preprocessing steps**"
      ]
    },
    {
      "cell_type": "code",
      "execution_count": 3,
      "metadata": {
        "id": "Z1AOUhKti_4P"
      },
      "outputs": [],
      "source": [
        "local_zip = '/content/Mydrive/MyDrive/Colab Notebooks/train.zip'\n",
        "zip_ref = zipfile.ZipFile(local_zip, 'r')\n",
        "zip_ref.extractall('/tmp')\n",
        "zip_ref.close()\n",
        "\n",
        "local_zip = '/content/Mydrive/MyDrive/Colab Notebooks/test.zip'\n",
        "zip_ref = zipfile.ZipFile(local_zip, 'r')\n",
        "zip_ref.extractall('/tmp')\n",
        "zip_ref.close()"
      ]
    },
    {
      "cell_type": "markdown",
      "metadata": {
        "id": "kqGcngPdZNVt"
      },
      "source": [
        "Define a normalization function"
      ]
    },
    {
      "cell_type": "code",
      "execution_count": 4,
      "metadata": {
        "id": "uyYKQQfMZRmP"
      },
      "outputs": [],
      "source": [
        "IMG_SIZE_ARRAY = (160, 160)\n",
        "def _normalize_img(img):\n",
        "    img = tf.image.central_crop(img,0.8)\n",
        "    img = tf.image.adjust_brightness(img, delta = 0.2)\n",
        "    img = tf.image.flip_left_right(img)\n",
        "    img = tf.image.resize(img, IMG_SIZE_ARRAY)\n",
        "    img = tf.cast(img, tf.float32)/255.   # All images will be rescaled by 1./255\n",
        "    return (img)\n",
        "\n",
        "def _normalize_img_1(img):\n",
        "    img = tf.image.resize(img, IMG_SIZE_ARRAY)\n",
        "    img = tf.cast(img, tf.float32)/255.   # All images will be rescaled by 1./255\n",
        "    return (img)"
      ]
    },
    {
      "cell_type": "markdown",
      "metadata": {
        "id": "Mslpozrz3PZ0"
      },
      "source": [
        "#### **Load the train and test data in a list**\n",
        "This method will load all the data into memory (RAM) before feeding it into the classifier for training. This is only possible when our dataset is small.\n"
      ]
    },
    {
      "cell_type": "markdown",
      "metadata": {
        "id": "fYM2qIAtZ7sH"
      },
      "source": [
        "Create array list storing image paths and labels"
      ]
    },
    {
      "cell_type": "code",
      "execution_count": 5,
      "metadata": {
        "id": "5psFJt9ta1u4"
      },
      "outputs": [],
      "source": [
        "train_info = '/content/Mydrive/MyDrive/Colab Notebooks/list/train.txt'\n",
        "\n",
        "with open(train_info) as txt_file:\n",
        "  lines = [x.strip() for x in txt_file.readlines()]\n",
        "\n",
        "def TrainImageAndLabel():\n",
        "  data = []\n",
        "  for x in lines:\n",
        "      temp = x.split(' ')\n",
        "      img_data = image.imread('/tmp/' + temp[0])\n",
        "      normalized_img = _normalize_img(img_data)\n",
        "      data.append([normalized_img, int(temp[1])])\n",
        "  for x in lines:\n",
        "      temp = x.split(' ')\n",
        "      img_data = image.imread('/tmp/' + temp[0])\n",
        "      normalized_img = _normalize_img_1(img_data)\n",
        "      data.append([normalized_img, int(temp[1])])\n",
        "  return data\n",
        "\n",
        "train_data = TrainImageAndLabel()"
      ]
    },
    {
      "cell_type": "code",
      "execution_count": 6,
      "metadata": {
        "id": "iZciJn1oauTr"
      },
      "outputs": [],
      "source": [
        "test_info = '/content/Mydrive/MyDrive/Colab Notebooks/list/groundtruth.txt'\n",
        "\n",
        "with open(test_info) as txt_file:\n",
        "  lines = [x.strip() for x in txt_file.readlines()]\n",
        "\n",
        "def TestImageAndLabel():\n",
        "  data = []\n",
        "  for x in lines:\n",
        "      temp = x.split(' ')\n",
        "      img_data = image.imread('/tmp/' + temp[0])\n",
        "      normalized_img = _normalize_img_1(img_data)\n",
        "      data.append([normalized_img, int(temp[1])])\n",
        "  return data\n",
        "\n",
        "test_data = TestImageAndLabel()"
      ]
    },
    {
      "cell_type": "code",
      "execution_count": 7,
      "metadata": {
        "id": "ZlrjZ75cfPbz"
      },
      "outputs": [],
      "source": [
        "x_train = []\n",
        "y_train = []\n",
        "for x,y in train_data:\n",
        "  x_train.append(x)\n",
        "  y_train.append(y)\n"
      ]
    },
    {
      "cell_type": "code",
      "execution_count": 8,
      "metadata": {
        "id": "JO-usPLeaTSZ"
      },
      "outputs": [],
      "source": [
        "x_test = []\n",
        "y_test = []\n",
        "for x,y in test_data:\n",
        "  x_test.append(x)\n",
        "  y_test.append(y)\n"
      ]
    },
    {
      "cell_type": "code",
      "execution_count": 9,
      "metadata": {
        "id": "wyg-6DjVqA4O"
      },
      "outputs": [],
      "source": [
        "# Convert Python List, \"train_loaded_images\" to numpy Arrays, \"X_train\"\n",
        "x_train = np.array(x_train)\n",
        "# Convert Python List, \"test_loaded_images\" to numpy Arrays, \"X_test\"\n",
        "x_test = np.array(x_test)\n",
        "\n",
        "# Convert Python List, \"Y_train\" to numpy Arrays, \"Y_train\"\n",
        "y_train = np.array(y_train)\n",
        "# Convert Python List, \"Y_test\" to numpy Arrays, \"Y_test\"\n",
        "y_test = np.array(y_test)"
      ]
    },
    {
      "cell_type": "code",
      "execution_count": 10,
      "metadata": {
        "id": "ejcd-ovK_MF_"
      },
      "outputs": [],
      "source": [
        "train_label = np.unique(y_train)\n",
        "no_classes = train_label.size"
      ]
    },
    {
      "cell_type": "code",
      "execution_count": 11,
      "metadata": {
        "id": "J2A3ndXtM6pJ"
      },
      "outputs": [],
      "source": [
        "def changeLabel():\n",
        "  i=0;\n",
        "  label = []\n",
        "  for temp in train_label:\n",
        "    label.append([temp,i])\n",
        "    i += 1\n",
        "  return label\n",
        "\n",
        "new_label = changeLabel()"
      ]
    },
    {
      "cell_type": "code",
      "execution_count": 12,
      "metadata": {
        "id": "OOpEJUcgqkYe"
      },
      "outputs": [],
      "source": [
        "i =0;\n",
        "for label in y_train:\n",
        "  for x,y in new_label:\n",
        "    if(label == x):\n",
        "      y_train[i] = y\n",
        "      break\n",
        "  i += 1"
      ]
    },
    {
      "cell_type": "code",
      "execution_count": 13,
      "metadata": {
        "id": "Xqcww5Mur6gK"
      },
      "outputs": [],
      "source": [
        "j =0;\n",
        "for label in y_test:\n",
        "  for x,y in new_label:\n",
        "    if(label == x):\n",
        "      y_test[j] = y\n",
        "      break\n",
        "  j += 1"
      ]
    },
    {
      "cell_type": "markdown",
      "metadata": {
        "id": "I1XwIYD28PSc"
      },
      "source": [
        "### CNN architecture"
      ]
    },
    {
      "cell_type": "code",
      "execution_count": 14,
      "metadata": {
        "id": "a548L-M-ghMK"
      },
      "outputs": [],
      "source": [
        "# Create the base model from the pre-trained model MobileNet V2\n",
        "IMG_SHAPE = IMG_SIZE_ARRAY + (3,)"
      ]
    },
    {
      "cell_type": "code",
      "execution_count": 15,
      "metadata": {
        "id": "4uy7n4Jtf9Wf"
      },
      "outputs": [],
      "source": [
        "# Normalization of preprocessing input \n",
        "\n",
        "def preprocess_input_mobile_net():\n",
        "  return tf.keras.applications.mobilenet_v2.preprocess_input\n",
        "\n",
        "preprocess_input = preprocess_input_mobile_net()"
      ]
    },
    {
      "cell_type": "code",
      "execution_count": 16,
      "metadata": {
        "id": "RC09TKnLg7BB",
        "colab": {
          "base_uri": "https://localhost:8080/"
        },
        "outputId": "0ccff831-5f2c-48c8-b045-e9193c3ecf50"
      },
      "outputs": [
        {
          "output_type": "stream",
          "name": "stdout",
          "text": [
            "Downloading data from https://storage.googleapis.com/tensorflow/keras-applications/mobilenet_v2/mobilenet_v2_weights_tf_dim_ordering_tf_kernels_1.0_160_no_top.h5\n",
            "9406464/9406464 [==============================] - 0s 0us/step\n"
          ]
        }
      ],
      "source": [
        "def model_mobile_net():\n",
        "  return tf.keras.applications.MobileNetV2(input_shape=IMG_SHAPE,\n",
        "            include_top=False, weights='imagenet')\n",
        "  \n",
        "base_model = model_mobile_net()"
      ]
    },
    {
      "cell_type": "code",
      "execution_count": 17,
      "metadata": {
        "id": "PokMuVr5hIMh"
      },
      "outputs": [],
      "source": [
        "base_model.trainable = False"
      ]
    },
    {
      "cell_type": "code",
      "execution_count": 18,
      "metadata": {
        "id": "syrpxpr_GRjk"
      },
      "outputs": [],
      "source": [
        "global_average_layer = tf.keras.layers.GlobalAveragePooling2D()"
      ]
    },
    {
      "cell_type": "code",
      "execution_count": 19,
      "metadata": {
        "id": "eNAPFS7BGTyP"
      },
      "outputs": [],
      "source": [
        "prediction_layer = tf.keras.layers.Dense(no_classes, activation='softmax')"
      ]
    },
    {
      "cell_type": "code",
      "execution_count": 20,
      "metadata": {
        "id": "mQSfXzaNGZtk"
      },
      "outputs": [],
      "source": [
        "inputs = tf.keras.Input(shape=(160, 160, 3))\n",
        "x = preprocess_input(inputs)\n",
        "x = base_model(inputs, training=False)\n",
        "x = global_average_layer(x)\n",
        "x = tf.keras.layers.Dropout(0.2)(x)\n",
        "x = Dense(1024, activation='relu')(x)\n",
        "x = tf.keras.layers.Dropout(0.2)(x)\n",
        "x = Dense(1024, activation='relu')(x)\n",
        "x = tf.keras.layers.Dropout(0.2)(x)\n",
        "outputs = prediction_layer(x)\n",
        "model = tf.keras.Model(inputs, outputs)"
      ]
    },
    {
      "cell_type": "code",
      "execution_count": 21,
      "metadata": {
        "id": "2-HCO55kGnlk"
      },
      "outputs": [],
      "source": [
        "model.compile(optimizer=tf.keras.optimizers.Adam(learning_rate=0.0001),\n",
        "              loss=tf.keras.losses.SparseCategoricalCrossentropy(from_logits=False),\n",
        "              metrics=['accuracy'])"
      ]
    },
    {
      "cell_type": "code",
      "execution_count": 22,
      "metadata": {
        "colab": {
          "base_uri": "https://localhost:8080/"
        },
        "id": "XWUtDHrChkio",
        "outputId": "3668fbe1-a825-4b03-ffd2-da89319205c2"
      },
      "outputs": [
        {
          "output_type": "stream",
          "name": "stderr",
          "text": [
            "/usr/local/lib/python3.8/dist-packages/tensorflow/python/util/dispatch.py:1082: UserWarning: \"`sparse_categorical_crossentropy` received `from_logits=True`, but the `output` argument was produced by a sigmoid or softmax activation and thus does not represent logits. Was this intended?\"\n",
            "  return dispatch_target(*args, **kwargs)\n"
          ]
        },
        {
          "output_type": "stream",
          "name": "stdout",
          "text": [
            "7/7 [==============================] - 9s 67ms/step - loss: 4.7250 - accuracy: 0.0145\n"
          ]
        }
      ],
      "source": [
        "loss0, accuracy0 = model.evaluate(x_test, y_test)"
      ]
    },
    {
      "cell_type": "code",
      "execution_count": 23,
      "metadata": {
        "colab": {
          "base_uri": "https://localhost:8080/"
        },
        "id": "IRWpBjt3Hen5",
        "outputId": "0ae99e8b-7669-4215-a00d-ce35c37f513d"
      },
      "outputs": [
        {
          "output_type": "stream",
          "name": "stdout",
          "text": [
            "Epoch 1/20\n",
            "297/297 [==============================] - 11s 28ms/step - loss: 4.1720 - accuracy: 0.0898 - val_loss: 3.9900 - val_accuracy: 0.1739\n",
            "Epoch 2/20\n",
            "297/297 [==============================] - 8s 27ms/step - loss: 3.1440 - accuracy: 0.2399 - val_loss: 3.7189 - val_accuracy: 0.2464\n",
            "Epoch 3/20\n",
            "297/297 [==============================] - 8s 27ms/step - loss: 2.6038 - accuracy: 0.3507 - val_loss: 3.5683 - val_accuracy: 0.2947\n",
            "Epoch 4/20\n",
            "297/297 [==============================] - 8s 26ms/step - loss: 2.2616 - accuracy: 0.4191 - val_loss: 3.6131 - val_accuracy: 0.3140\n",
            "Epoch 5/20\n",
            "297/297 [==============================] - 8s 26ms/step - loss: 2.0038 - accuracy: 0.4777 - val_loss: 3.5467 - val_accuracy: 0.3285\n",
            "Epoch 6/20\n",
            "297/297 [==============================] - 8s 26ms/step - loss: 1.8044 - accuracy: 0.5249 - val_loss: 3.5686 - val_accuracy: 0.3285\n",
            "Epoch 7/20\n",
            "297/297 [==============================] - 8s 26ms/step - loss: 1.6308 - accuracy: 0.5614 - val_loss: 3.6584 - val_accuracy: 0.3671\n",
            "Epoch 8/20\n",
            "297/297 [==============================] - 8s 26ms/step - loss: 1.4846 - accuracy: 0.5993 - val_loss: 3.6804 - val_accuracy: 0.3527\n",
            "Epoch 9/20\n",
            "297/297 [==============================] - 8s 27ms/step - loss: 1.3533 - accuracy: 0.6283 - val_loss: 3.7890 - val_accuracy: 0.3816\n",
            "Epoch 10/20\n",
            "297/297 [==============================] - 8s 26ms/step - loss: 1.2421 - accuracy: 0.6549 - val_loss: 3.7878 - val_accuracy: 0.3816\n",
            "Epoch 11/20\n",
            "297/297 [==============================] - 8s 26ms/step - loss: 1.1486 - accuracy: 0.6792 - val_loss: 3.8203 - val_accuracy: 0.3671\n",
            "Epoch 12/20\n",
            "297/297 [==============================] - 8s 27ms/step - loss: 1.0463 - accuracy: 0.7081 - val_loss: 3.8267 - val_accuracy: 0.3865\n",
            "Epoch 13/20\n",
            "297/297 [==============================] - 8s 26ms/step - loss: 0.9758 - accuracy: 0.7300 - val_loss: 3.8159 - val_accuracy: 0.3961\n",
            "Epoch 14/20\n",
            "297/297 [==============================] - 8s 26ms/step - loss: 0.8770 - accuracy: 0.7525 - val_loss: 3.9882 - val_accuracy: 0.3816\n",
            "Epoch 15/20\n",
            "297/297 [==============================] - 8s 26ms/step - loss: 0.8248 - accuracy: 0.7662 - val_loss: 3.8960 - val_accuracy: 0.3913\n",
            "Epoch 16/20\n",
            "297/297 [==============================] - 8s 26ms/step - loss: 0.7613 - accuracy: 0.7848 - val_loss: 3.9545 - val_accuracy: 0.4010\n",
            "Epoch 17/20\n",
            "297/297 [==============================] - 8s 26ms/step - loss: 0.7033 - accuracy: 0.8007 - val_loss: 4.0574 - val_accuracy: 0.3816\n",
            "Epoch 18/20\n",
            "297/297 [==============================] - 9s 29ms/step - loss: 0.6576 - accuracy: 0.8134 - val_loss: 4.0707 - val_accuracy: 0.4058\n",
            "Epoch 19/20\n",
            "297/297 [==============================] - 8s 26ms/step - loss: 0.6172 - accuracy: 0.8199 - val_loss: 4.1004 - val_accuracy: 0.3913\n",
            "Epoch 20/20\n",
            "297/297 [==============================] - 8s 26ms/step - loss: 0.5661 - accuracy: 0.8397 - val_loss: 4.0042 - val_accuracy: 0.4058\n"
          ]
        }
      ],
      "source": [
        "initial_epochs = 20\n",
        "\n",
        "\n",
        "callback = tf.keras.callbacks.EarlyStopping(monitor='loss', patience=3)\n",
        "\n",
        "history = model.fit(x_train, y_train,\n",
        "                    epochs=initial_epochs,\n",
        "                    batch_size = 32, validation_data=(x_test,y_test),\n",
        "                    callbacks=[callback])"
      ]
    },
    {
      "cell_type": "code",
      "execution_count": 24,
      "metadata": {
        "colab": {
          "base_uri": "https://localhost:8080/",
          "height": 282
        },
        "id": "82JzTG2td8TN",
        "outputId": "133a4829-7f8f-4af3-80c0-deeaa6901630"
      },
      "outputs": [
        {
          "output_type": "execute_result",
          "data": {
            "text/plain": [
              "<matplotlib.legend.Legend at 0x7f908e3be820>"
            ]
          },
          "metadata": {},
          "execution_count": 24
        },
        {
          "output_type": "display_data",
          "data": {
            "text/plain": [
              "<Figure size 432x288 with 1 Axes>"
            ],
            "image/png": "[encoded data removed]"
          },
          "metadata": {
            "needs_background": "light"
          }
        }
      ],
      "source": [
        "#Generate a accuracy graph\n",
        "plt.plot(history.epoch, history.history.get(\"accuracy\"), label = \"train_accuracy\")\n",
        "plt.plot(history.epoch, history.history.get(\"val_accuracy\"), label = \"val_accuracy\")\n",
        "plt.legend()"
      ]
    },
    {
      "cell_type": "code",
      "execution_count": 25,
      "metadata": {
        "colab": {
          "base_uri": "https://localhost:8080/",
          "height": 282
        },
        "id": "CK3IN_FceA3c",
        "outputId": "519a6967-3c06-417e-bb73-28d2cfe96ebe"
      },
      "outputs": [
        {
          "output_type": "execute_result",
          "data": {
            "text/plain": [
              "<matplotlib.legend.Legend at 0x7f908e2f16d0>"
            ]
          },
          "metadata": {},
          "execution_count": 25
        },
        {
          "output_type": "display_data",
          "data": {
            "text/plain": [
              "<Figure size 432x288 with 1 Axes>"
            ],
            "image/png": "[encoded data removed]"
          },
          "metadata": {
            "needs_background": "light"
          }
        }
      ],
      "source": [
        "#Generate a loss graph\n",
        "plt.plot(history.epoch, history.history.get(\"loss\"), label = \"train_loss\")\n",
        "plt.plot(history.epoch, history.history.get(\"val_loss\"), label = \"val_loss\")\n",
        "plt.legend()"
      ]
    },
    {
      "cell_type": "code",
      "execution_count": 26,
      "metadata": {
        "colab": {
          "base_uri": "https://localhost:8080/",
          "height": 513
        },
        "id": "xO8hSsNcH_CW",
        "outputId": "ff37bc47-d90e-483f-d6c0-82ee13002ba5"
      },
      "outputs": [
        {
          "output_type": "display_data",
          "data": {
            "text/plain": [
              "<Figure size 576x576 with 2 Axes>"
            ],
            "image/png": "[encoded data removed]"
          },
          "metadata": {
            "needs_background": "light"
          }
        }
      ],
      "source": [
        "acc = history.history['accuracy']\n",
        "val_acc = history.history['val_accuracy']\n",
        "\n",
        "loss = history.history['loss']\n",
        "val_loss = history.history['val_loss']\n",
        "\n",
        "plt.figure(figsize=(8, 8))\n",
        "plt.subplot(2, 1, 1)\n",
        "plt.plot(acc, label='Training Accuracy')\n",
        "plt.plot(val_acc, label='Validation Accuracy')\n",
        "plt.legend(loc='lower right')\n",
        "plt.ylabel('Accuracy')\n",
        "plt.ylim([min(plt.ylim()),1])\n",
        "plt.title('Training and Validation Accuracy')\n",
        "\n",
        "plt.subplot(2, 1, 2)\n",
        "plt.plot(loss, label='Training Loss')\n",
        "plt.plot(val_loss, label='Validation Loss')\n",
        "plt.legend(loc='upper right')\n",
        "plt.ylabel('Cross Entropy')\n",
        "plt.ylim([0,1.0])\n",
        "plt.title('Training and Validation Loss')\n",
        "plt.xlabel('epoch')\n",
        "plt.show()"
      ]
    },
    {
      "cell_type": "code",
      "source": [
        "model.evaluate(x_test,y_test)"
      ],
      "metadata": {
        "colab": {
          "base_uri": "https://localhost:8080/"
        },
        "id": "PUGP1BZH3zF0",
        "outputId": "685d79af-6e47-43b9-e0a6-8a4895ff7afd"
      },
      "execution_count": 27,
      "outputs": [
        {
          "output_type": "stream",
          "name": "stdout",
          "text": [
            "7/7 [==============================] - 0s 30ms/step - loss: 4.0042 - accuracy: 0.4058\n"
          ]
        },
        {
          "output_type": "execute_result",
          "data": {
            "text/plain": [
              "[4.004208564758301, 0.4057970941066742]"
            ]
          },
          "metadata": {},
          "execution_count": 27
        }
      ]
    },
    {
      "cell_type": "markdown",
      "source": [
        "# Siamese"
      ],
      "metadata": {
        "id": "bUYymbcTmbVi"
      }
    },
    {
      "cell_type": "code",
      "source": [
        "base_model.trainable = False\n",
        "model.traiable = False"
      ],
      "metadata": {
        "id": "jkZrB3cXTBsq"
      },
      "execution_count": 28,
      "outputs": []
    },
    {
      "cell_type": "code",
      "source": [
        "import PIL\n",
        "from PIL import Image\n",
        "\n",
        "from tensorflow import keras\n",
        "from tensorflow.keras.preprocessing import image_dataset_from_directory\n",
        "\n",
        "from tensorflow.keras import applications\n",
        "from tensorflow.keras import layers\n",
        "from tensorflow.keras import losses\n",
        "from tensorflow.keras import optimizers\n",
        "from tensorflow.keras import metrics\n",
        "from tensorflow.keras import Model\n",
        "from tensorflow.keras.applications import resnet\n",
        "from tensorflow.keras.layers import Dense, Dropout, Activation, Flatten,Conv2D, MaxPooling2D, Flatten,MaxPool2D\n",
        "from tensorflow.keras.applications import mobilenet_v2\n",
        "from tensorflow.keras.applications import VGG16\n",
        "from tensorflow.keras.applications import inception_resnet_v2\n",
        "\n",
        "\n",
        "species_txt = \"/content/Mydrive/MyDrive/Colab Notebooks/list/species_list.txt\"\n",
        "train_txt = \"/content/Mydrive/MyDrive/Colab Notebooks/list/train.txt\"\n",
        "mainPath = \"/tmp/\"\n",
        "\n",
        "\n",
        "target_shape = (160, 160)\n",
        "img_size = 160 # width and height is same"
      ],
      "metadata": {
        "id": "TC5l7NaYTI8t"
      },
      "execution_count": 29,
      "outputs": []
    },
    {
      "cell_type": "code",
      "source": [
        "def labelGenerate(): \n",
        "    label = []\n",
        "    i=0\n",
        "    label_data = open(species_txt,\"r\") # open txt file name species_list.txt\n",
        "    for temp in label_data:\n",
        "        x = temp.split(\";\")\n",
        "        label.append([int(x[0]),x[1].strip(),i])## [label number IN string type, label name]\n",
        "        i += 1\n",
        "    return label\n",
        "\n",
        "label = labelGenerate()"
      ],
      "metadata": {
        "id": "XIP4E8C6eB3D"
      },
      "execution_count": 30,
      "outputs": []
    },
    {
      "cell_type": "code",
      "source": [
        "def findtxt(check):\n",
        "    txt = open(train_txt,\"r\")\n",
        "    abc = []\n",
        "    for x in txt:\n",
        "        temp = x.split(\" \")\n",
        "        if(int(temp[1]) == check):\n",
        "            abc.append(x)\n",
        "    return abc"
      ],
      "metadata": {
        "id": "k2mIn2rEUJN-"
      },
      "execution_count": 31,
      "outputs": []
    },
    {
      "cell_type": "code",
      "source": [
        "def TrainData():\n",
        "    anchor = []\n",
        "    positive = []\n",
        "    negative = []\n",
        "    positive2 = []\n",
        "    ready = []\n",
        "    for x,y,z in label:\n",
        "        temp_anchor = []\n",
        "        abc = findtxt(x)\n",
        "        for s in abc:\n",
        "            aa = s.split(\" \")\n",
        "            temp_anchor.append(s)\n",
        "            anchor.append(aa[0])\n",
        "        i=1\n",
        "        for tt in temp_anchor:\n",
        "            aa = temp_anchor[i].split(\" \")\n",
        "            positive2.append(temp_anchor[i])\n",
        "            positive.append(aa[0])\n",
        "            i += 1\n",
        "            if(i == len(temp_anchor)):\n",
        "                aa = temp_anchor[0].split(\" \")\n",
        "                positive.append(aa[0])\n",
        "                positive2.append(temp_anchor[0])\n",
        "                ready.append(temp_anchor[0])\n",
        "                break\n",
        "    i = 0\n",
        "    for x in positive2:\n",
        "        temp = x.split(\" \")\n",
        "        temp1 = ready[i].split(\" \")\n",
        "        if(temp[1] == temp1[1]):\n",
        "            temp1 = ready[i].split(\" \")\n",
        "            negative.append(temp1[0])\n",
        "        else:\n",
        "            negative.append(temp1[0])\n",
        "        if( i + 1 == 100):\n",
        "            i = 0\n",
        "        else:\n",
        "            i+= 1\n",
        "    return anchor,positive,negative"
      ],
      "metadata": {
        "id": "XCOmZnO7T2Wl"
      },
      "execution_count": 32,
      "outputs": []
    },
    {
      "cell_type": "code",
      "source": [
        "def preprocess_image(filename):\n",
        "    \"\"\"\n",
        "    Load the specified file as a JPEG image, preprocess it and\n",
        "    resize it to the target shape.\n",
        "    \"\"\"\n",
        "    image_string = tf.io.read_file(mainPath + filename)\n",
        "    image = tf.image.decode_jpeg(image_string, channels=3)\n",
        "    image = tf.image.convert_image_dtype(image, tf.float32)\n",
        "    image = tf.image.resize(image, target_shape)\n",
        "    #image = np.array(image) / 255\n",
        "    return image\n",
        "\n",
        "\n",
        "def preprocess_triplets(anchor, positive, negative):\n",
        "    \"\"\"\n",
        "    Given the filenames corresponding to the three images, load and\n",
        "    preprocess them.\n",
        "    \"\"\" \n",
        "\n",
        "    return (\n",
        "        preprocess_image(anchor),\n",
        "        preprocess_image(positive),\n",
        "        preprocess_image(negative),\n",
        "    )"
      ],
      "metadata": {
        "id": "MpvW4XcqUKZr"
      },
      "execution_count": 33,
      "outputs": []
    },
    {
      "cell_type": "code",
      "source": [
        "anchor,positive,negative = TrainData()\n",
        "#anchor_data = DataGenerate(anchor)\n",
        "#positive_data = DataGenerate(positive)\n",
        "#negative_data = DataGenerate(negative)\n",
        "\n",
        "# anchor_data = Transformlabel(anchor_data, label)\n",
        "# positive_data = Transformlabel(positive_data, label)\n",
        "# negative_data =Transformlabel(negative_data, label)\n",
        "image_count = len(anchor)\n",
        "\n",
        "anchor_data = tf.data.Dataset.from_tensor_slices(anchor)\n",
        "positive_data = tf.data.Dataset.from_tensor_slices(positive)\n",
        "negative_data = tf.data.Dataset.from_tensor_slices(negative)"
      ],
      "metadata": {
        "id": "PyqNwP4KUMql"
      },
      "execution_count": 34,
      "outputs": []
    },
    {
      "cell_type": "code",
      "source": [
        "dataset = tf.data.Dataset.zip((anchor_data, positive_data, negative_data))\n",
        "dataset = dataset.shuffle(buffer_size=1024)\n",
        "dataset = dataset.map(preprocess_triplets)\n",
        "\n",
        "#train_dataset = dataset.take(round(image_count * 0.8))\n",
        "#val_dataset = dataset.skip(round(image_count * 0.8))\n",
        "\n",
        "#train_dataset = train_dataset.batch(32, drop_remainder=False)\n",
        "#train_dataset = train_dataset.prefetch(8)\n",
        "\n",
        "#val_dataset = val_dataset.batch(32, drop_remainder=False)\n",
        "#val_dataset = val_dataset.prefetch(8)\n",
        "\n",
        "\n",
        "dataset = dataset.batch(32, drop_remainder=False)"
      ],
      "metadata": {
        "id": "qvAyZ9VLUOqh"
      },
      "execution_count": 35,
      "outputs": []
    },
    {
      "cell_type": "code",
      "source": [
        "# def visualize(anchor, positive, negative):\n",
        "#     \"\"\"Visualize a few triplets from the supplied batches.\"\"\"\n",
        "\n",
        "#     def show(ax, image):\n",
        "#         ax.imshow(image)\n",
        "#         ax.get_xaxis().set_visible(False)\n",
        "#         ax.get_yaxis().set_visible(False)\n",
        "\n",
        "#     fig = plt.figure(figsize=(9, 9))\n",
        "\n",
        "#     axs = fig.subplots(3, 3)\n",
        "#     for i in range(3):\n",
        "#         show(axs[i, 0], anchor[i])\n",
        "#         show(axs[i, 1], positive[i])\n",
        "#         show(axs[i, 2], negative[i])\n",
        "\n",
        "\n",
        "# visualize(*list(dataset.take(1).as_numpy_iterator())[0])"
      ],
      "metadata": {
        "id": "QMVKkSL2d1s8"
      },
      "execution_count": 36,
      "outputs": []
    },
    {
      "cell_type": "code",
      "source": [
        "flatten = layers.Flatten()(base_model.output)\n",
        "dense1 = layers.Dense(1024, activation=\"relu\",name=\"layer1\")(flatten)\n",
        "dense1 = layers.BatchNormalization()(dense1)\n",
        "dense2 = layers.Dense(512, activation=\"relu\",name=\"layer2\")(dense1)\n",
        "dense2 = layers.BatchNormalization()(dense2)\n",
        "output = layers.Dense(1024,name=\"layer3\")(dense2)\n",
        "\n",
        "embedding = Model(base_model.input, output, name=\"Embedding\")"
      ],
      "metadata": {
        "id": "4lljPt2nUQkf"
      },
      "execution_count": 37,
      "outputs": []
    },
    {
      "cell_type": "code",
      "source": [
        "class DistanceLayer(layers.Layer):\n",
        "    \"\"\"\n",
        "    This layer is responsible for computing the distance between the anchor\n",
        "    embedding and the positive embedding, and the anchor embedding and the\n",
        "    negative embedding.\n",
        "    \"\"\"\n",
        "\n",
        "    def __init__(self, **kwargs):\n",
        "        super().__init__(**kwargs)\n",
        "\n",
        "    def call(self, anchor, positive, negative):\n",
        "        ap_distance = tf.reduce_sum(tf.square(anchor - positive), -1) \n",
        "        an_distance = tf.reduce_sum(tf.square(anchor - negative), -1)\n",
        "        return (ap_distance, an_distance)\n",
        "\n",
        "\n",
        "anchor_input = layers.Input(name=\"anchor\", shape=target_shape + (3,))\n",
        "positive_input = layers.Input(name=\"positive\", shape=target_shape + (3,))\n",
        "negative_input = layers.Input(name=\"negative\", shape=target_shape + (3,))\n",
        "\n",
        "distances = DistanceLayer()(\n",
        "    embedding(mobilenet_v2.preprocess_input(anchor_input)),\n",
        "    embedding(mobilenet_v2.preprocess_input(positive_input)),\n",
        "    embedding(mobilenet_v2.preprocess_input(negative_input)),\n",
        ")\n",
        "\n",
        "siamese_network = Model(\n",
        "    inputs=[anchor_input, positive_input, negative_input], outputs=distances\n",
        ")"
      ],
      "metadata": {
        "id": "7iWXBVnLUYKp"
      },
      "execution_count": 38,
      "outputs": []
    },
    {
      "cell_type": "code",
      "source": [
        "class SiameseModel(Model):\n",
        "    \"\"\"The Siamese Network model with a custom training and testing loops.\n",
        "\n",
        "    Computes the triplet loss using the three embeddings produced by the\n",
        "    Siamese Network.\n",
        "\n",
        "    The triplet loss is defined as:\n",
        "       L(A, P, N) = max(‖f(A) - f(P)‖² - ‖f(A) - f(N)‖² + margin, 0)\n",
        "    \"\"\"\n",
        "\n",
        "    def __init__(self, siamese_network, margin=0.5):\n",
        "        super(SiameseModel, self).__init__()\n",
        "        self.siamese_network = siamese_network\n",
        "        self.margin = margin\n",
        "        self.loss_tracker = metrics.Mean(name=\"loss\")\n",
        "\n",
        "    def call(self, inputs):\n",
        "        return self.siamese_network(inputs)\n",
        "\n",
        "    def train_step(self, data):\n",
        "        # GradientTape is a context manager that records every operation that\n",
        "        # you do inside. We are using it here to compute the loss so we can get\n",
        "        # the gradients and apply them using the optimizer specified in\n",
        "        # `compile()`.\n",
        "        with tf.GradientTape() as tape:\n",
        "            loss = self._compute_loss(data)\n",
        "\n",
        "        # Storing the gradients of the loss function with respect to the\n",
        "        # weights/parameters.\n",
        "        gradients = tape.gradient(loss, self.siamese_network.trainable_weights)\n",
        "\n",
        "        # Applying the gradients on the model using the specified optimizer\n",
        "        self.optimizer.apply_gradients(\n",
        "            zip(gradients, self.siamese_network.trainable_weights)\n",
        "        )\n",
        "\n",
        "        # Let's update and return the training loss metric.\n",
        "        self.loss_tracker.update_state(loss)\n",
        "        return {\"loss\": self.loss_tracker.result()}\n",
        "\n",
        "    def test_step(self, data):\n",
        "        loss = self._compute_loss(data)\n",
        "\n",
        "        # Let's update and return the loss metric.\n",
        "        self.loss_tracker.update_state(loss)\n",
        "        return {\"loss\": self.loss_tracker.result()}\n",
        "\n",
        "    def _compute_loss(self, data):\n",
        "        # The output of the network is a tuple containing the distances\n",
        "        # between the anchor and the positive example, and the anchor and\n",
        "        # the negative example.\n",
        "        ap_distance, an_distance = self.siamese_network(data)\n",
        "\n",
        "        # Computing the Triplet Loss by subtracting both distances and\n",
        "        # making sure we don't get a negative value.\n",
        "        loss = ap_distance - an_distance\n",
        "        loss = tf.maximum(loss + self.margin, 0.0)\n",
        "        return loss\n",
        "\n",
        "    @property\n",
        "    def metrics(self):\n",
        "        # We need to list our metrics here so the `reset_states()` can be\n",
        "        # called automatically.\n",
        "        return [self.loss_tracker]"
      ],
      "metadata": {
        "id": "X9l6OPFcUbCc"
      },
      "execution_count": 39,
      "outputs": []
    },
    {
      "cell_type": "code",
      "source": [
        "siamese_model = SiameseModel(siamese_network)\n",
        "siamese_model.compile(optimizer=optimizers.Adam(0.0001),metrics=['accuracy'])\n",
        "history = siamese_model.fit(dataset, epochs=10)"
      ],
      "metadata": {
        "colab": {
          "base_uri": "https://localhost:8080/"
        },
        "id": "0Gf0bwRGUcOE",
        "outputId": "1801124e-dc19-4690-ffdb-6334e85ff721"
      },
      "execution_count": 40,
      "outputs": [
        {
          "output_type": "stream",
          "name": "stdout",
          "text": [
            "Epoch 1/10\n",
            "149/149 [==============================] - 307s 2s/step - loss: 0.3671\n",
            "Epoch 2/10\n",
            "149/149 [==============================] - 311s 2s/step - loss: 0.2004\n",
            "Epoch 3/10\n",
            "149/149 [==============================] - 271s 2s/step - loss: 0.1492\n",
            "Epoch 4/10\n",
            "149/149 [==============================] - 212s 1s/step - loss: 0.1222\n",
            "Epoch 5/10\n",
            "149/149 [==============================] - 210s 1s/step - loss: 0.1049\n",
            "Epoch 6/10\n",
            "149/149 [==============================] - 211s 1s/step - loss: 0.0970\n",
            "Epoch 7/10\n",
            "149/149 [==============================] - 203s 1s/step - loss: 0.0876\n",
            "Epoch 8/10\n",
            "149/149 [==============================] - 205s 1s/step - loss: 0.0879\n",
            "Epoch 9/10\n",
            "149/149 [==============================] - 204s 1s/step - loss: 0.0565\n",
            "Epoch 10/10\n",
            "149/149 [==============================] - 199s 1s/step - loss: 0.0606\n"
          ]
        }
      ]
    },
    {
      "cell_type": "code",
      "source": [
        "# sample = next(iter(dataset))\n",
        "# #visualize(*sample)\n",
        "\n",
        "# anchor, positive, negative = sample\n",
        "\n",
        "# anchor_embedding, positive_embedding, negative_embedding = (\n",
        "#     embedding(inception_resnet_v2.preprocess_input(anchor)),\n",
        "#     embedding(inception_resnet_v2.preprocess_input(positive)),\n",
        "#     embedding(inception_resnet_v2.preprocess_input(negative)),\n",
        "# )"
      ],
      "metadata": {
        "id": "CP42gSQIUeAW"
      },
      "execution_count": 41,
      "outputs": []
    },
    {
      "cell_type": "code",
      "source": [
        "# cosine_similarity = metrics.CosineSimilarity()\n",
        "\n",
        "# positive_similarity = cosine_similarity(anchor_embedding, positive_embedding)\n",
        "# print(\"Positive similarity:\", positive_similarity.numpy())\n",
        "\n",
        "# negative_similarity = cosine_similarity(anchor_embedding, negative_embedding)\n",
        "# print(\"Negative similarity\", negative_similarity.numpy())"
      ],
      "metadata": {
        "id": "TWFkZu1fUf1Q"
      },
      "execution_count": 42,
      "outputs": []
    },
    {
      "cell_type": "code",
      "source": [
        "#input_C = tf.keras.layers.Input(shape=(32,))\n",
        "# x1 = Dense(200, activation='relu')\n",
        "# x1 = Dense(150, activation='relu')(x1)\n",
        "import functools\n",
        "top1_acc = functools.partial(keras.metrics.top_k_categorical_accuracy, k=1)\n",
        "top5_acc = functools.partial(keras.metrics.top_k_categorical_accuracy, k=5)\n",
        "top1_acc.__name__ = 'top1_acc'\n",
        "top5_acc.__name__ = 'top5_acc'\n",
        "\n",
        "predictions_C= Dense(100, activation='softmax')(output)\n",
        "\n",
        "model_C = Model(inputs=base_model.inputs, outputs=predictions_C)\n",
        "optimizers = [\n",
        "    tf.keras.optimizers.Adam(learning_rate=0.00001),\n",
        "    tf.keras.optimizers.Adam(learning_rate=0.0001),\n",
        "]\n",
        "optimizers_and_layers = [(optimizers[0], siamese_model.layers[0]), (optimizers[1], model_C.layers[0])]\n",
        "optimizersss = tfa.optimizers.MultiOptimizer(optimizers_and_layers)\n",
        "model_C.compile(loss=tf.keras.losses.SparseCategoricalCrossentropy(from_logits=True),  #from_logits true cuz dont have activate softmax\n",
        "              optimizer= tf.keras.optimizers.Adam(learning_rate=0.0001),\n",
        "              metrics=['accuracy',top1_acc,top5_acc])\n",
        "modelchis = model_C.fit(x_train,y_train,shuffle=True,epochs=30,validation_data=(x_test,y_test))\n",
        "#model_C.compile(loss='mean_squared_error', optimizer='adam')\n"
      ],
      "metadata": {
        "id": "Bn5ZYQBbUhoe",
        "colab": {
          "base_uri": "https://localhost:8080/"
        },
        "outputId": "65375171-7fda-4a07-d262-8259917caf04"
      },
      "execution_count": 43,
      "outputs": [
        {
          "output_type": "stream",
          "name": "stdout",
          "text": [
            "Epoch 1/30\n",
            "297/297 [==============================] - 14s 36ms/step - loss: 2.9801 - accuracy: 0.3138 - top1_acc: 0.0063 - top5_acc: 0.0341 - val_loss: 3.6025 - val_accuracy: 0.3140 - val_top1_acc: 0.0000e+00 - val_top5_acc: 0.0000e+00\n",
            "Epoch 2/30\n",
            "297/297 [==============================] - 10s 33ms/step - loss: 0.7384 - accuracy: 0.8493 - top1_acc: 0.0067 - top5_acc: 0.0414 - val_loss: 3.5460 - val_accuracy: 0.3140 - val_top1_acc: 0.0000e+00 - val_top5_acc: 0.0000e+00\n",
            "Epoch 3/30\n",
            "297/297 [==============================] - 10s 33ms/step - loss: 0.1033 - accuracy: 0.9941 - top1_acc: 0.0067 - top5_acc: 0.0392 - val_loss: 3.3520 - val_accuracy: 0.3671 - val_top1_acc: 0.0000e+00 - val_top5_acc: 0.0000e+00\n",
            "Epoch 4/30\n",
            "297/297 [==============================] - 10s 33ms/step - loss: 0.0219 - accuracy: 0.9999 - top1_acc: 0.0067 - top5_acc: 0.0414 - val_loss: 3.3680 - val_accuracy: 0.3671 - val_top1_acc: 0.0000e+00 - val_top5_acc: 0.0000e+00\n",
            "Epoch 5/30\n",
            "297/297 [==============================] - 10s 33ms/step - loss: 0.0093 - accuracy: 1.0000 - top1_acc: 0.0067 - top5_acc: 0.0452 - val_loss: 3.3770 - val_accuracy: 0.3768 - val_top1_acc: 0.0000e+00 - val_top5_acc: 0.0000e+00\n",
            "Epoch 6/30\n",
            "297/297 [==============================] - 10s 33ms/step - loss: 0.0059 - accuracy: 1.0000 - top1_acc: 0.0067 - top5_acc: 0.0460 - val_loss: 3.3937 - val_accuracy: 0.3768 - val_top1_acc: 0.0000e+00 - val_top5_acc: 0.0000e+00\n",
            "Epoch 7/30\n",
            "297/297 [==============================] - 10s 33ms/step - loss: 0.0042 - accuracy: 1.0000 - top1_acc: 0.0067 - top5_acc: 0.0443 - val_loss: 3.4110 - val_accuracy: 0.3720 - val_top1_acc: 0.0000e+00 - val_top5_acc: 0.0000e+00\n",
            "Epoch 8/30\n",
            "297/297 [==============================] - 10s 33ms/step - loss: 0.0032 - accuracy: 1.0000 - top1_acc: 0.0067 - top5_acc: 0.0438 - val_loss: 3.4292 - val_accuracy: 0.3913 - val_top1_acc: 0.0000e+00 - val_top5_acc: 0.0000e+00\n",
            "Epoch 9/30\n",
            "297/297 [==============================] - 10s 33ms/step - loss: 0.0024 - accuracy: 1.0000 - top1_acc: 0.0067 - top5_acc: 0.0451 - val_loss: 3.4624 - val_accuracy: 0.3816 - val_top1_acc: 0.0000e+00 - val_top5_acc: 0.0000e+00\n",
            "Epoch 10/30\n",
            "297/297 [==============================] - 10s 33ms/step - loss: 0.0019 - accuracy: 1.0000 - top1_acc: 0.0067 - top5_acc: 0.0464 - val_loss: 3.4694 - val_accuracy: 0.3816 - val_top1_acc: 0.0000e+00 - val_top5_acc: 0.0000e+00\n",
            "Epoch 11/30\n",
            "297/297 [==============================] - 10s 33ms/step - loss: 0.0015 - accuracy: 1.0000 - top1_acc: 0.0067 - top5_acc: 0.0461 - val_loss: 3.4900 - val_accuracy: 0.3816 - val_top1_acc: 0.0000e+00 - val_top5_acc: 0.0000e+00\n",
            "Epoch 12/30\n",
            "297/297 [==============================] - 10s 33ms/step - loss: 0.0012 - accuracy: 1.0000 - top1_acc: 0.0067 - top5_acc: 0.0462 - val_loss: 3.5110 - val_accuracy: 0.3816 - val_top1_acc: 0.0000e+00 - val_top5_acc: 0.0000e+00\n",
            "Epoch 13/30\n",
            "297/297 [==============================] - 10s 33ms/step - loss: 9.8244e-04 - accuracy: 1.0000 - top1_acc: 0.0067 - top5_acc: 0.0464 - val_loss: 3.5228 - val_accuracy: 0.3816 - val_top1_acc: 0.0000e+00 - val_top5_acc: 0.0000e+00\n",
            "Epoch 14/30\n",
            "297/297 [==============================] - 10s 33ms/step - loss: 8.4150e-04 - accuracy: 1.0000 - top1_acc: 0.0067 - top5_acc: 0.0462 - val_loss: 3.5420 - val_accuracy: 0.3913 - val_top1_acc: 0.0000e+00 - val_top5_acc: 0.0000e+00\n",
            "Epoch 15/30\n",
            "297/297 [==============================] - 10s 33ms/step - loss: 6.8765e-04 - accuracy: 1.0000 - top1_acc: 0.0067 - top5_acc: 0.0454 - val_loss: 3.5476 - val_accuracy: 0.3816 - val_top1_acc: 0.0000e+00 - val_top5_acc: 0.0000e+00\n",
            "Epoch 16/30\n",
            "297/297 [==============================] - 10s 33ms/step - loss: 5.8434e-04 - accuracy: 1.0000 - top1_acc: 0.0067 - top5_acc: 0.0451 - val_loss: 3.5651 - val_accuracy: 0.3865 - val_top1_acc: 0.0000e+00 - val_top5_acc: 0.0000e+00\n",
            "Epoch 17/30\n",
            "297/297 [==============================] - 10s 33ms/step - loss: 4.6918e-04 - accuracy: 1.0000 - top1_acc: 0.0067 - top5_acc: 0.0452 - val_loss: 3.5705 - val_accuracy: 0.3768 - val_top1_acc: 0.0000e+00 - val_top5_acc: 0.0000e+00\n",
            "Epoch 18/30\n",
            "297/297 [==============================] - 10s 33ms/step - loss: 4.0226e-04 - accuracy: 1.0000 - top1_acc: 0.0067 - top5_acc: 0.0422 - val_loss: 3.5936 - val_accuracy: 0.3816 - val_top1_acc: 0.0000e+00 - val_top5_acc: 0.0000e+00\n",
            "Epoch 19/30\n",
            "297/297 [==============================] - 10s 33ms/step - loss: 3.3014e-04 - accuracy: 1.0000 - top1_acc: 0.0067 - top5_acc: 0.0455 - val_loss: 3.6171 - val_accuracy: 0.3816 - val_top1_acc: 0.0000e+00 - val_top5_acc: 0.0000e+00\n",
            "Epoch 20/30\n",
            "297/297 [==============================] - 10s 33ms/step - loss: 2.8681e-04 - accuracy: 1.0000 - top1_acc: 0.0067 - top5_acc: 0.0467 - val_loss: 3.6307 - val_accuracy: 0.3816 - val_top1_acc: 0.0000e+00 - val_top5_acc: 0.0000e+00\n",
            "Epoch 21/30\n",
            "297/297 [==============================] - 10s 33ms/step - loss: 2.4112e-04 - accuracy: 1.0000 - top1_acc: 0.0067 - top5_acc: 0.0466 - val_loss: 3.6281 - val_accuracy: 0.3768 - val_top1_acc: 0.0000e+00 - val_top5_acc: 0.0000e+00\n",
            "Epoch 22/30\n",
            "297/297 [==============================] - 10s 33ms/step - loss: 2.0162e-04 - accuracy: 1.0000 - top1_acc: 0.0067 - top5_acc: 0.0438 - val_loss: 3.6577 - val_accuracy: 0.3768 - val_top1_acc: 0.0000e+00 - val_top5_acc: 0.0000e+00\n",
            "Epoch 23/30\n",
            "297/297 [==============================] - 10s 33ms/step - loss: 1.6847e-04 - accuracy: 1.0000 - top1_acc: 0.0067 - top5_acc: 0.0474 - val_loss: 3.6771 - val_accuracy: 0.3816 - val_top1_acc: 0.0000e+00 - val_top5_acc: 0.0000e+00\n",
            "Epoch 24/30\n",
            "297/297 [==============================] - 10s 33ms/step - loss: 1.4459e-04 - accuracy: 1.0000 - top1_acc: 0.0067 - top5_acc: 0.0457 - val_loss: 3.6870 - val_accuracy: 0.3816 - val_top1_acc: 0.0000e+00 - val_top5_acc: 0.0000e+00\n",
            "Epoch 25/30\n",
            "297/297 [==============================] - 10s 33ms/step - loss: 1.2377e-04 - accuracy: 1.0000 - top1_acc: 0.0067 - top5_acc: 0.0453 - val_loss: 3.7085 - val_accuracy: 0.3816 - val_top1_acc: 0.0000e+00 - val_top5_acc: 0.0000e+00\n",
            "Epoch 26/30\n",
            "297/297 [==============================] - 10s 33ms/step - loss: 1.0437e-04 - accuracy: 1.0000 - top1_acc: 0.0067 - top5_acc: 0.0432 - val_loss: 3.7198 - val_accuracy: 0.3816 - val_top1_acc: 0.0000e+00 - val_top5_acc: 0.0000e+00\n",
            "Epoch 27/30\n",
            "297/297 [==============================] - 10s 33ms/step - loss: 8.9702e-05 - accuracy: 1.0000 - top1_acc: 0.0067 - top5_acc: 0.0411 - val_loss: 3.7307 - val_accuracy: 0.3816 - val_top1_acc: 0.0000e+00 - val_top5_acc: 0.0000e+00\n",
            "Epoch 28/30\n",
            "297/297 [==============================] - 10s 33ms/step - loss: 7.6210e-05 - accuracy: 1.0000 - top1_acc: 0.0067 - top5_acc: 0.0449 - val_loss: 3.7355 - val_accuracy: 0.3768 - val_top1_acc: 0.0000e+00 - val_top5_acc: 0.0000e+00\n",
            "Epoch 29/30\n",
            "297/297 [==============================] - 10s 33ms/step - loss: 6.5378e-05 - accuracy: 1.0000 - top1_acc: 0.0067 - top5_acc: 0.0486 - val_loss: 3.7369 - val_accuracy: 0.3816 - val_top1_acc: 0.0000e+00 - val_top5_acc: 0.0000e+00\n",
            "Epoch 30/30\n",
            "297/297 [==============================] - 10s 33ms/step - loss: 5.6756e-05 - accuracy: 1.0000 - top1_acc: 0.0067 - top5_acc: 0.0476 - val_loss: 3.7668 - val_accuracy: 0.3768 - val_top1_acc: 0.0000e+00 - val_top5_acc: 0.0000e+00\n"
          ]
        }
      ]
    },
    {
      "cell_type": "code",
      "source": [
        "plt.plot(modelchis.epoch, modelchis.history.get(\"loss\"), label = \"train_loss\")\n",
        "plt.plot(modelchis.epoch, modelchis.history.get(\"val_loss\"), label = \"val_loss\")\n",
        "plt.legend()"
      ],
      "metadata": {
        "colab": {
          "base_uri": "https://localhost:8080/",
          "height": 282
        },
        "id": "gIpQ6hmqUqJ2",
        "outputId": "a6d0dd59-5cd7-4357-a8c6-2ce876053a3a"
      },
      "execution_count": 44,
      "outputs": [
        {
          "output_type": "execute_result",
          "data": {
            "text/plain": [
              "<matplotlib.legend.Legend at 0x7f8f8a2ad2e0>"
            ]
          },
          "metadata": {},
          "execution_count": 44
        },
        {
          "output_type": "display_data",
          "data": {
            "text/plain": [
              "<Figure size 432x288 with 1 Axes>"
            ],
            "image/png": "[encoded data removed]"
          },
          "metadata": {
            "needs_background": "light"
          }
        }
      ]
    },
    {
      "cell_type": "code",
      "source": [
        "#Generate a accuracy graph\n",
        "plt.plot(modelchis.epoch, modelchis.history.get(\"accuracy\"), label = \"train_accuracy\")\n",
        "plt.plot(modelchis.epoch, modelchis.history.get(\"val_accuracy\"), label = \"val_accuracy\")\n",
        "plt.legend()"
      ],
      "metadata": {
        "colab": {
          "base_uri": "https://localhost:8080/",
          "height": 282
        },
        "id": "-YWEJywsUgXu",
        "outputId": "9045a86b-2963-4301-db01-77a7ac1595a6"
      },
      "execution_count": 45,
      "outputs": [
        {
          "output_type": "execute_result",
          "data": {
            "text/plain": [
              "<matplotlib.legend.Legend at 0x7f8f8a20aac0>"
            ]
          },
          "metadata": {},
          "execution_count": 45
        },
        {
          "output_type": "display_data",
          "data": {
            "text/plain": [
              "<Figure size 432x288 with 1 Axes>"
            ],
            "image/png": "[encoded data removed]"
          },
          "metadata": {
            "needs_background": "light"
          }
        }
      ]
    },
    {
      "cell_type": "code",
      "source": [
        "model_score = model_C.evaluate(x_test,y_test)\n",
        "\n",
        "print('Loss:', round(model_score[0], 3)*100, '%')\n",
        "print('Accuracy', round(model_score[1], 3)*100, '%')\n",
        "print('Top-1 accuracy:', round(model_score[2], 3)*100, '%')\n",
        "print('Top-5 accuracy:', round(model_score[3],3)*100, '%')"
      ],
      "metadata": {
        "id": "O1BdvNS4OzcV",
        "colab": {
          "base_uri": "https://localhost:8080/"
        },
        "outputId": "41cc2136-5d6d-457f-e574-ec40df62c892"
      },
      "execution_count": 46,
      "outputs": [
        {
          "output_type": "stream",
          "name": "stdout",
          "text": [
            "7/7 [==============================] - 0s 32ms/step - loss: 3.7668 - accuracy: 0.3768 - top1_acc: 0.0000e+00 - top5_acc: 0.0000e+00\n",
            "Loss: 376.7 %\n",
            "Accuracy 37.7 %\n",
            "Top-1 accuracy: 0.0 %\n",
            "Top-5 accuracy: 0.0 %\n"
          ]
        }
      ]
    }
  ],
  "metadata": {
    "accelerator": "GPU",
    "colab": {
      "provenance": []
    },
    "gpuClass": "standard",
    "kernelspec": {
      "display_name": "Python 3",
      "name": "python3"
    }
  },
  "nbformat": 4,
  "nbformat_minor": 0
}